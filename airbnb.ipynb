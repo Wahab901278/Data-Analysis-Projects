{
 "cells": [
  {
   "cell_type": "code",
   "execution_count": 1,
   "id": "86444e36-7e55-49a2-9ac9-c229d783c616",
   "metadata": {},
   "outputs": [],
   "source": [
    "# necessary libraries\n",
    "# numpy for handling numeric data\n",
    "# pandas for EDA\n",
    "# missingno for checking missing values in dataframe\n",
    "# matplotlib for plotting\n",
    "import numpy as np\n",
    "import pandas as pd\n",
    "import missingno as msno\n",
    "import matplotlib.pyplot as plt"
   ]
  },
  {
   "cell_type": "code",
   "execution_count": 2,
   "id": "f6d6381a-e30b-47d5-85ae-97999bdfe316",
   "metadata": {},
   "outputs": [],
   "source": [
    "# loading the data\n",
    "df=pd.read_csv('Airbnb.csv')"
   ]
  },
  {
   "cell_type": "code",
   "execution_count": 3,
   "id": "461cda7d-5bc5-4456-93ce-b9bc130545ac",
   "metadata": {},
   "outputs": [
    {
     "data": {
      "text/html": [
       "<div>\n",
       "<style scoped>\n",
       "    .dataframe tbody tr th:only-of-type {\n",
       "        vertical-align: middle;\n",
       "    }\n",
       "\n",
       "    .dataframe tbody tr th {\n",
       "        vertical-align: top;\n",
       "    }\n",
       "\n",
       "    .dataframe thead th {\n",
       "        text-align: right;\n",
       "    }\n",
       "</style>\n",
       "<table border=\"1\" class=\"dataframe\">\n",
       "  <thead>\n",
       "    <tr style=\"text-align: right;\">\n",
       "      <th></th>\n",
       "      <th>id</th>\n",
       "      <th>name</th>\n",
       "      <th>host_id</th>\n",
       "      <th>host_name</th>\n",
       "      <th>neighbourhood group</th>\n",
       "      <th>neighbourhood</th>\n",
       "      <th>latitude</th>\n",
       "      <th>longitude</th>\n",
       "      <th>room type</th>\n",
       "      <th>price</th>\n",
       "      <th>minimum nights</th>\n",
       "      <th>number_of_reviews</th>\n",
       "      <th>last review</th>\n",
       "      <th>reviews_per_month</th>\n",
       "      <th>calculated_host_listings_count</th>\n",
       "      <th>availability_365</th>\n",
       "    </tr>\n",
       "  </thead>\n",
       "  <tbody>\n",
       "    <tr>\n",
       "      <th>0</th>\n",
       "      <td>2539</td>\n",
       "      <td>Clean &amp; quiet apt home by the park</td>\n",
       "      <td>2787</td>\n",
       "      <td>John</td>\n",
       "      <td>Brooklyn</td>\n",
       "      <td>Kensington</td>\n",
       "      <td>40.64749</td>\n",
       "      <td>-73.97237</td>\n",
       "      <td>Private room</td>\n",
       "      <td>149.0</td>\n",
       "      <td>1.0</td>\n",
       "      <td>9</td>\n",
       "      <td>10/19/2018</td>\n",
       "      <td>0.21</td>\n",
       "      <td>6</td>\n",
       "      <td>365</td>\n",
       "    </tr>\n",
       "    <tr>\n",
       "      <th>1</th>\n",
       "      <td>2595</td>\n",
       "      <td>Skylit Midtown Castle</td>\n",
       "      <td>2845</td>\n",
       "      <td>Jennifer</td>\n",
       "      <td>Manhattan</td>\n",
       "      <td>Midtown</td>\n",
       "      <td>40.75362</td>\n",
       "      <td>-73.98377</td>\n",
       "      <td>Entire home/apt</td>\n",
       "      <td>225.0</td>\n",
       "      <td>1.0</td>\n",
       "      <td>45</td>\n",
       "      <td>5/21/2019</td>\n",
       "      <td>0.38</td>\n",
       "      <td>2</td>\n",
       "      <td>355</td>\n",
       "    </tr>\n",
       "    <tr>\n",
       "      <th>2</th>\n",
       "      <td>3647</td>\n",
       "      <td>THE VILLAGE OF HARLEM....NEW YORK !</td>\n",
       "      <td>4632</td>\n",
       "      <td>Elisabeth</td>\n",
       "      <td>Manhattan</td>\n",
       "      <td>Harlem</td>\n",
       "      <td>40.80902</td>\n",
       "      <td>-73.94190</td>\n",
       "      <td>Private room</td>\n",
       "      <td>150.0</td>\n",
       "      <td>3.0</td>\n",
       "      <td>0</td>\n",
       "      <td>NaN</td>\n",
       "      <td>NaN</td>\n",
       "      <td>1</td>\n",
       "      <td>365</td>\n",
       "    </tr>\n",
       "    <tr>\n",
       "      <th>3</th>\n",
       "      <td>3831</td>\n",
       "      <td>Cozy Entire Floor of Brownstone</td>\n",
       "      <td>4869</td>\n",
       "      <td>LisaRoxanne</td>\n",
       "      <td>Brooklyn</td>\n",
       "      <td>Clinton Hill</td>\n",
       "      <td>40.68514</td>\n",
       "      <td>-73.95976</td>\n",
       "      <td>Entire home/apt</td>\n",
       "      <td>89.0</td>\n",
       "      <td>1.0</td>\n",
       "      <td>270</td>\n",
       "      <td>7/5/2019</td>\n",
       "      <td>4.64</td>\n",
       "      <td>1</td>\n",
       "      <td>194</td>\n",
       "    </tr>\n",
       "    <tr>\n",
       "      <th>4</th>\n",
       "      <td>5022</td>\n",
       "      <td>Entire Apt: Spacious Studio/Loft by central park</td>\n",
       "      <td>7192</td>\n",
       "      <td>Laura</td>\n",
       "      <td>Manhattan</td>\n",
       "      <td>East Harlem</td>\n",
       "      <td>40.79851</td>\n",
       "      <td>-73.94399</td>\n",
       "      <td>Entire home/apt</td>\n",
       "      <td>80.0</td>\n",
       "      <td>10.0</td>\n",
       "      <td>9</td>\n",
       "      <td>11/19/2018</td>\n",
       "      <td>0.10</td>\n",
       "      <td>1</td>\n",
       "      <td>0</td>\n",
       "    </tr>\n",
       "    <tr>\n",
       "      <th>5</th>\n",
       "      <td>5099</td>\n",
       "      <td>Large Cozy 1 BR Apartment In Midtown East</td>\n",
       "      <td>7322</td>\n",
       "      <td>Chris</td>\n",
       "      <td>Manhattan</td>\n",
       "      <td>Murray Hill</td>\n",
       "      <td>40.74767</td>\n",
       "      <td>-73.97500</td>\n",
       "      <td>Entire home/apt</td>\n",
       "      <td>200.0</td>\n",
       "      <td>3.0</td>\n",
       "      <td>74</td>\n",
       "      <td>6/22/2019</td>\n",
       "      <td>0.59</td>\n",
       "      <td>1</td>\n",
       "      <td>129</td>\n",
       "    </tr>\n",
       "    <tr>\n",
       "      <th>6</th>\n",
       "      <td>5121</td>\n",
       "      <td>BlissArtsSpace!</td>\n",
       "      <td>7356</td>\n",
       "      <td>Garon</td>\n",
       "      <td>Brooklyn</td>\n",
       "      <td>Bedford-Stuyvesant</td>\n",
       "      <td>40.68688</td>\n",
       "      <td>-73.95596</td>\n",
       "      <td>Private room</td>\n",
       "      <td>60.0</td>\n",
       "      <td>45.0</td>\n",
       "      <td>49</td>\n",
       "      <td>10/5/2017</td>\n",
       "      <td>0.40</td>\n",
       "      <td>1</td>\n",
       "      <td>0</td>\n",
       "    </tr>\n",
       "    <tr>\n",
       "      <th>7</th>\n",
       "      <td>5178</td>\n",
       "      <td>Large Furnished Room Near B'way</td>\n",
       "      <td>8967</td>\n",
       "      <td>Shunichi</td>\n",
       "      <td>Manhattan</td>\n",
       "      <td>Hell's Kitchen</td>\n",
       "      <td>40.76489</td>\n",
       "      <td>-73.98493</td>\n",
       "      <td>Private room</td>\n",
       "      <td>79.0</td>\n",
       "      <td>2.0</td>\n",
       "      <td>430</td>\n",
       "      <td>6/24/2019</td>\n",
       "      <td>3.47</td>\n",
       "      <td>1</td>\n",
       "      <td>220</td>\n",
       "    </tr>\n",
       "    <tr>\n",
       "      <th>8</th>\n",
       "      <td>5203</td>\n",
       "      <td>Cozy Clean Guest Room - Family Apt</td>\n",
       "      <td>7490</td>\n",
       "      <td>MaryEllen</td>\n",
       "      <td>Manhattan</td>\n",
       "      <td>Upper West Side</td>\n",
       "      <td>40.80178</td>\n",
       "      <td>-73.96723</td>\n",
       "      <td>Private room</td>\n",
       "      <td>79.0</td>\n",
       "      <td>2.0</td>\n",
       "      <td>118</td>\n",
       "      <td>7/21/2017</td>\n",
       "      <td>0.99</td>\n",
       "      <td>1</td>\n",
       "      <td>0</td>\n",
       "    </tr>\n",
       "    <tr>\n",
       "      <th>9</th>\n",
       "      <td>5238</td>\n",
       "      <td>Cute &amp; Cozy Lower East Side 1 bdrm</td>\n",
       "      <td>7549</td>\n",
       "      <td>Ben</td>\n",
       "      <td>Manhattan</td>\n",
       "      <td>Chinatown</td>\n",
       "      <td>40.71344</td>\n",
       "      <td>-73.99037</td>\n",
       "      <td>Entire home/apt</td>\n",
       "      <td>150.0</td>\n",
       "      <td>1.0</td>\n",
       "      <td>160</td>\n",
       "      <td>6/9/2019</td>\n",
       "      <td>1.33</td>\n",
       "      <td>4</td>\n",
       "      <td>188</td>\n",
       "    </tr>\n",
       "    <tr>\n",
       "      <th>10</th>\n",
       "      <td>5295</td>\n",
       "      <td>Beautiful 1br on Upper West Side</td>\n",
       "      <td>7702</td>\n",
       "      <td>Lena</td>\n",
       "      <td>Manhattan</td>\n",
       "      <td>Upper West Side</td>\n",
       "      <td>40.80316</td>\n",
       "      <td>-73.96545</td>\n",
       "      <td>Entire home/apt</td>\n",
       "      <td>135.0</td>\n",
       "      <td>5.0</td>\n",
       "      <td>53</td>\n",
       "      <td>6/22/2019</td>\n",
       "      <td>0.43</td>\n",
       "      <td>1</td>\n",
       "      <td>6</td>\n",
       "    </tr>\n",
       "    <tr>\n",
       "      <th>11</th>\n",
       "      <td>2595</td>\n",
       "      <td>Skylit Midtown Castle</td>\n",
       "      <td>2845</td>\n",
       "      <td>Jennifer</td>\n",
       "      <td>Manhattan</td>\n",
       "      <td>Midtown</td>\n",
       "      <td>40.75362</td>\n",
       "      <td>-73.98377</td>\n",
       "      <td>Entire home/apt</td>\n",
       "      <td>225.0</td>\n",
       "      <td>1.0</td>\n",
       "      <td>45</td>\n",
       "      <td>5/21/2019</td>\n",
       "      <td>0.38</td>\n",
       "      <td>2</td>\n",
       "      <td>355</td>\n",
       "    </tr>\n",
       "    <tr>\n",
       "      <th>12</th>\n",
       "      <td>5121</td>\n",
       "      <td>BlissArtsSpace!</td>\n",
       "      <td>7356</td>\n",
       "      <td>Garon</td>\n",
       "      <td>Brooklyn</td>\n",
       "      <td>Bedford-Stuyvesant</td>\n",
       "      <td>40.68688</td>\n",
       "      <td>-73.95596</td>\n",
       "      <td>Private room</td>\n",
       "      <td>60.0</td>\n",
       "      <td>45.0</td>\n",
       "      <td>49</td>\n",
       "      <td>10/5/2017</td>\n",
       "      <td>0.40</td>\n",
       "      <td>1</td>\n",
       "      <td>0</td>\n",
       "    </tr>\n",
       "    <tr>\n",
       "      <th>13</th>\n",
       "      <td>5295</td>\n",
       "      <td>Beautiful 1br on Upper West Side</td>\n",
       "      <td>7702</td>\n",
       "      <td>Lena</td>\n",
       "      <td>Manhattan</td>\n",
       "      <td>Upper West Side</td>\n",
       "      <td>40.80316</td>\n",
       "      <td>-73.96545</td>\n",
       "      <td>Entire home/apt</td>\n",
       "      <td>135.0</td>\n",
       "      <td>5.0</td>\n",
       "      <td>53</td>\n",
       "      <td>6/22/2019</td>\n",
       "      <td>0.43</td>\n",
       "      <td>1</td>\n",
       "      <td>6</td>\n",
       "    </tr>\n",
       "    <tr>\n",
       "      <th>14</th>\n",
       "      <td>6090</td>\n",
       "      <td>West Village Nest - Superhost</td>\n",
       "      <td>11975</td>\n",
       "      <td>Alina</td>\n",
       "      <td>Manhattan</td>\n",
       "      <td>West Village</td>\n",
       "      <td>40.73530</td>\n",
       "      <td>-74.00525</td>\n",
       "      <td>Entire home/apt</td>\n",
       "      <td>120.0</td>\n",
       "      <td>90.0</td>\n",
       "      <td>27</td>\n",
       "      <td>10/31/2018</td>\n",
       "      <td>0.22</td>\n",
       "      <td>1</td>\n",
       "      <td>0</td>\n",
       "    </tr>\n",
       "    <tr>\n",
       "      <th>15</th>\n",
       "      <td>7097</td>\n",
       "      <td>Perfect for Your Parents + Garden</td>\n",
       "      <td>17571</td>\n",
       "      <td>Jane</td>\n",
       "      <td>Brooklyn</td>\n",
       "      <td>Fort Greene</td>\n",
       "      <td>40.69169</td>\n",
       "      <td>-73.97185</td>\n",
       "      <td>Entire home/apt</td>\n",
       "      <td>215.0</td>\n",
       "      <td>2.0</td>\n",
       "      <td>198</td>\n",
       "      <td>6/28/2019</td>\n",
       "      <td>1.72</td>\n",
       "      <td>1</td>\n",
       "      <td>321</td>\n",
       "    </tr>\n",
       "    <tr>\n",
       "      <th>16</th>\n",
       "      <td>5441</td>\n",
       "      <td>Central Manhattan/near Broadway</td>\n",
       "      <td>7989</td>\n",
       "      <td>Kate</td>\n",
       "      <td>Manhattan</td>\n",
       "      <td>Hell's Kitchen</td>\n",
       "      <td>40.76076</td>\n",
       "      <td>-73.98867</td>\n",
       "      <td>Private room</td>\n",
       "      <td>85.0</td>\n",
       "      <td>2.0</td>\n",
       "      <td>188</td>\n",
       "      <td>6/23/2019</td>\n",
       "      <td>1.50</td>\n",
       "      <td>1</td>\n",
       "      <td>39</td>\n",
       "    </tr>\n",
       "    <tr>\n",
       "      <th>17</th>\n",
       "      <td>5803</td>\n",
       "      <td>Lovely Room 1, Garden, Best Area, Legal rental</td>\n",
       "      <td>9744</td>\n",
       "      <td>Laurie</td>\n",
       "      <td>Brooklyn</td>\n",
       "      <td>South Slope</td>\n",
       "      <td>40.66829</td>\n",
       "      <td>-73.98779</td>\n",
       "      <td>Private room</td>\n",
       "      <td>89.0</td>\n",
       "      <td>4.0</td>\n",
       "      <td>167</td>\n",
       "      <td>6/24/2019</td>\n",
       "      <td>1.34</td>\n",
       "      <td>3</td>\n",
       "      <td>314</td>\n",
       "    </tr>\n",
       "    <tr>\n",
       "      <th>18</th>\n",
       "      <td>6021</td>\n",
       "      <td>Wonderful Guest Bedroom in Manhattan for SINGLES</td>\n",
       "      <td>11528</td>\n",
       "      <td>Claudio</td>\n",
       "      <td>Manhattan</td>\n",
       "      <td>Upper West Side</td>\n",
       "      <td>40.79826</td>\n",
       "      <td>-73.96113</td>\n",
       "      <td>Private room</td>\n",
       "      <td>85.0</td>\n",
       "      <td>2.0</td>\n",
       "      <td>113</td>\n",
       "      <td>7/5/2019</td>\n",
       "      <td>0.91</td>\n",
       "      <td>1</td>\n",
       "      <td>333</td>\n",
       "    </tr>\n",
       "    <tr>\n",
       "      <th>19</th>\n",
       "      <td>6090</td>\n",
       "      <td>West Village Nest - Superhost</td>\n",
       "      <td>11975</td>\n",
       "      <td>Alina</td>\n",
       "      <td>Manhattan</td>\n",
       "      <td>West Village</td>\n",
       "      <td>40.73530</td>\n",
       "      <td>-74.00525</td>\n",
       "      <td>Entire home/apt</td>\n",
       "      <td>120.0</td>\n",
       "      <td>90.0</td>\n",
       "      <td>27</td>\n",
       "      <td>10/31/2018</td>\n",
       "      <td>0.22</td>\n",
       "      <td>1</td>\n",
       "      <td>0</td>\n",
       "    </tr>\n",
       "  </tbody>\n",
       "</table>\n",
       "</div>"
      ],
      "text/plain": [
       "      id                                              name  host_id  \\\n",
       "0   2539                Clean & quiet apt home by the park     2787   \n",
       "1   2595                             Skylit Midtown Castle     2845   \n",
       "2   3647               THE VILLAGE OF HARLEM....NEW YORK !     4632   \n",
       "3   3831                   Cozy Entire Floor of Brownstone     4869   \n",
       "4   5022  Entire Apt: Spacious Studio/Loft by central park     7192   \n",
       "5   5099         Large Cozy 1 BR Apartment In Midtown East     7322   \n",
       "6   5121                                   BlissArtsSpace!     7356   \n",
       "7   5178                  Large Furnished Room Near B'way      8967   \n",
       "8   5203                Cozy Clean Guest Room - Family Apt     7490   \n",
       "9   5238                Cute & Cozy Lower East Side 1 bdrm     7549   \n",
       "10  5295                  Beautiful 1br on Upper West Side     7702   \n",
       "11  2595                             Skylit Midtown Castle     2845   \n",
       "12  5121                                   BlissArtsSpace!     7356   \n",
       "13  5295                  Beautiful 1br on Upper West Side     7702   \n",
       "14  6090                     West Village Nest - Superhost    11975   \n",
       "15  7097                 Perfect for Your Parents + Garden    17571   \n",
       "16  5441                   Central Manhattan/near Broadway     7989   \n",
       "17  5803    Lovely Room 1, Garden, Best Area, Legal rental     9744   \n",
       "18  6021  Wonderful Guest Bedroom in Manhattan for SINGLES    11528   \n",
       "19  6090                     West Village Nest - Superhost    11975   \n",
       "\n",
       "      host_name neighbourhood group       neighbourhood  latitude  longitude  \\\n",
       "0          John            Brooklyn          Kensington  40.64749  -73.97237   \n",
       "1      Jennifer           Manhattan             Midtown  40.75362  -73.98377   \n",
       "2     Elisabeth           Manhattan              Harlem  40.80902  -73.94190   \n",
       "3   LisaRoxanne            Brooklyn        Clinton Hill  40.68514  -73.95976   \n",
       "4         Laura           Manhattan         East Harlem  40.79851  -73.94399   \n",
       "5         Chris           Manhattan         Murray Hill  40.74767  -73.97500   \n",
       "6         Garon            Brooklyn  Bedford-Stuyvesant  40.68688  -73.95596   \n",
       "7      Shunichi           Manhattan      Hell's Kitchen  40.76489  -73.98493   \n",
       "8     MaryEllen           Manhattan     Upper West Side  40.80178  -73.96723   \n",
       "9           Ben           Manhattan           Chinatown  40.71344  -73.99037   \n",
       "10         Lena           Manhattan     Upper West Side  40.80316  -73.96545   \n",
       "11     Jennifer           Manhattan             Midtown  40.75362  -73.98377   \n",
       "12        Garon            Brooklyn  Bedford-Stuyvesant  40.68688  -73.95596   \n",
       "13         Lena           Manhattan     Upper West Side  40.80316  -73.96545   \n",
       "14        Alina           Manhattan        West Village  40.73530  -74.00525   \n",
       "15         Jane            Brooklyn         Fort Greene  40.69169  -73.97185   \n",
       "16         Kate           Manhattan      Hell's Kitchen  40.76076  -73.98867   \n",
       "17       Laurie            Brooklyn         South Slope  40.66829  -73.98779   \n",
       "18      Claudio           Manhattan     Upper West Side  40.79826  -73.96113   \n",
       "19        Alina           Manhattan        West Village  40.73530  -74.00525   \n",
       "\n",
       "          room type  price  minimum nights  number_of_reviews last review  \\\n",
       "0      Private room  149.0             1.0                  9  10/19/2018   \n",
       "1   Entire home/apt  225.0             1.0                 45   5/21/2019   \n",
       "2      Private room  150.0             3.0                  0         NaN   \n",
       "3   Entire home/apt   89.0             1.0                270    7/5/2019   \n",
       "4   Entire home/apt   80.0            10.0                  9  11/19/2018   \n",
       "5   Entire home/apt  200.0             3.0                 74   6/22/2019   \n",
       "6      Private room   60.0            45.0                 49   10/5/2017   \n",
       "7      Private room   79.0             2.0                430   6/24/2019   \n",
       "8      Private room   79.0             2.0                118   7/21/2017   \n",
       "9   Entire home/apt  150.0             1.0                160    6/9/2019   \n",
       "10  Entire home/apt  135.0             5.0                 53   6/22/2019   \n",
       "11  Entire home/apt  225.0             1.0                 45   5/21/2019   \n",
       "12     Private room   60.0            45.0                 49   10/5/2017   \n",
       "13  Entire home/apt  135.0             5.0                 53   6/22/2019   \n",
       "14  Entire home/apt  120.0            90.0                 27  10/31/2018   \n",
       "15  Entire home/apt  215.0             2.0                198   6/28/2019   \n",
       "16     Private room   85.0             2.0                188   6/23/2019   \n",
       "17     Private room   89.0             4.0                167   6/24/2019   \n",
       "18     Private room   85.0             2.0                113    7/5/2019   \n",
       "19  Entire home/apt  120.0            90.0                 27  10/31/2018   \n",
       "\n",
       "    reviews_per_month  calculated_host_listings_count  availability_365  \n",
       "0                0.21                               6               365  \n",
       "1                0.38                               2               355  \n",
       "2                 NaN                               1               365  \n",
       "3                4.64                               1               194  \n",
       "4                0.10                               1                 0  \n",
       "5                0.59                               1               129  \n",
       "6                0.40                               1                 0  \n",
       "7                3.47                               1               220  \n",
       "8                0.99                               1                 0  \n",
       "9                1.33                               4               188  \n",
       "10               0.43                               1                 6  \n",
       "11               0.38                               2               355  \n",
       "12               0.40                               1                 0  \n",
       "13               0.43                               1                 6  \n",
       "14               0.22                               1                 0  \n",
       "15               1.72                               1               321  \n",
       "16               1.50                               1                39  \n",
       "17               1.34                               3               314  \n",
       "18               0.91                               1               333  \n",
       "19               0.22                               1                 0  "
      ]
     },
     "execution_count": 3,
     "metadata": {},
     "output_type": "execute_result"
    }
   ],
   "source": [
    "# first 20 entries\n",
    "df.head(20)"
   ]
  },
  {
   "cell_type": "code",
   "execution_count": 4,
   "id": "ac2a22ae-1871-46cf-8ae1-3b785171e279",
   "metadata": {},
   "outputs": [
    {
     "data": {
      "text/plain": [
       "(48900, 16)"
      ]
     },
     "execution_count": 4,
     "metadata": {},
     "output_type": "execute_result"
    }
   ],
   "source": [
    "# 48900 rows and 16 columns\n",
    "df.shape"
   ]
  },
  {
   "cell_type": "code",
   "execution_count": 5,
   "id": "1d473b9f-282f-4ec0-9c9d-13a25b0a4398",
   "metadata": {},
   "outputs": [
    {
     "data": {
      "text/plain": [
       "Index(['id', 'name', 'host_id', 'host_name', 'neighbourhood group',\n",
       "       'neighbourhood', 'latitude', 'longitude', 'room type', 'price',\n",
       "       'minimum nights', 'number_of_reviews', 'last review',\n",
       "       'reviews_per_month', 'calculated_host_listings_count',\n",
       "       'availability_365'],\n",
       "      dtype='object')"
      ]
     },
     "execution_count": 5,
     "metadata": {},
     "output_type": "execute_result"
    }
   ],
   "source": [
    "df.columns"
   ]
  },
  {
   "cell_type": "code",
   "execution_count": 6,
   "id": "69e42ee1-ea6c-42fe-a3bb-ff72b9b48ebd",
   "metadata": {},
   "outputs": [
    {
     "name": "stdout",
     "output_type": "stream",
     "text": [
      "Index(['id', 'name', 'host_id', 'host_name', 'neighbourhood_group',\n",
      "       'neighbourhood', 'latitude', 'longitude', 'room_type', 'price',\n",
      "       'minimum_nights', 'number_of_reviews', 'last_review',\n",
      "       'reviews_per_month', 'calculated_host_listings_count',\n",
      "       'availability_365'],\n",
      "      dtype='object')\n"
     ]
    }
   ],
   "source": [
    "# Using str.replace() method with column labels to change \" \" empty spaces to underscores “ _ “ for consistency\n",
    "df.columns=df.columns.str.replace(\" \",\"_\")\n",
    "print(df.columns)"
   ]
  },
  {
   "cell_type": "code",
   "execution_count": 7,
   "id": "8b9cab81-269a-46b5-aaf0-477bccd710b8",
   "metadata": {},
   "outputs": [
    {
     "name": "stdout",
     "output_type": "stream",
     "text": [
      "<class 'pandas.core.frame.DataFrame'>\n",
      "RangeIndex: 48900 entries, 0 to 48899\n",
      "Data columns (total 16 columns):\n",
      " #   Column                          Non-Null Count  Dtype  \n",
      "---  ------                          --------------  -----  \n",
      " 0   id                              48900 non-null  int64  \n",
      " 1   name                            48884 non-null  object \n",
      " 2   host_id                         48900 non-null  int64  \n",
      " 3   host_name                       48879 non-null  object \n",
      " 4   neighbourhood_group             48900 non-null  object \n",
      " 5   neighbourhood                   48900 non-null  object \n",
      " 6   latitude                        48900 non-null  float64\n",
      " 7   longitude                       48900 non-null  float64\n",
      " 8   room_type                       48900 non-null  object \n",
      " 9   price                           48900 non-null  float64\n",
      " 10  minimum_nights                  48900 non-null  float64\n",
      " 11  number_of_reviews               48900 non-null  int64  \n",
      " 12  last_review                     38848 non-null  object \n",
      " 13  reviews_per_month               38848 non-null  float64\n",
      " 14  calculated_host_listings_count  48900 non-null  int64  \n",
      " 15  availability_365                48900 non-null  int64  \n",
      "dtypes: float64(5), int64(5), object(6)\n",
      "memory usage: 6.0+ MB\n"
     ]
    }
   ],
   "source": [
    "# there are 5 columns that contain integer, 5 contains floats and 6 are of object dtype\n",
    "df.info()"
   ]
  },
  {
   "cell_type": "code",
   "execution_count": 8,
   "id": "0e8261f9-29a4-46ac-9c06-63a288d0652c",
   "metadata": {},
   "outputs": [],
   "source": [
    "# We have converted float columns into integer datatype and just \n",
    "# because there is no object dtype which means price don't contain \"$\" or other special characters.\n",
    "df['minimum_nights']=df['minimum_nights'].astype(int)\n",
    "df['price']=df['price'].astype(int)"
   ]
  },
  {
   "cell_type": "code",
   "execution_count": 9,
   "id": "fc6cfc74-1a61-4e4a-96c4-f8de399d5c5b",
   "metadata": {},
   "outputs": [
    {
     "data": {
      "text/plain": [
       "last_review\n",
       "6/23/2019    1413\n",
       "7/1/2019     1359\n",
       "6/30/2019    1341\n",
       "6/24/2019     875\n",
       "7/7/2019      718\n",
       "7/2/2019      658\n",
       "6/22/2019     656\n",
       "6/16/2019     601\n",
       "7/5/2019      580\n",
       "7/6/2019      565\n",
       "Name: count, dtype: int64"
      ]
     },
     "execution_count": 9,
     "metadata": {},
     "output_type": "execute_result"
    }
   ],
   "source": [
    "df['last_review'].value_counts()[:10].sort_values(ascending=False)"
   ]
  },
  {
   "cell_type": "code",
   "execution_count": 10,
   "id": "3d56fb1f-245a-40f7-9501-6e223490ce4d",
   "metadata": {},
   "outputs": [
    {
     "name": "stderr",
     "output_type": "stream",
     "text": [
      "/tmp/ipykernel_112969/4135276770.py:2: FutureWarning: A value is trying to be set on a copy of a DataFrame or Series through chained assignment using an inplace method.\n",
      "The behavior will change in pandas 3.0. This inplace method will never work because the intermediate object on which we are setting values always behaves as a copy.\n",
      "\n",
      "For example, when doing 'df[col].method(value, inplace=True)', try using 'df.method({col: value}, inplace=True)' or df[col] = df[col].method(value) instead, to perform the operation inplace on the original object.\n",
      "\n",
      "\n",
      "  df['last_review'].fillna(method='ffill',inplace=True)\n",
      "/tmp/ipykernel_112969/4135276770.py:2: FutureWarning: Series.fillna with 'method' is deprecated and will raise in a future version. Use obj.ffill() or obj.bfill() instead.\n",
      "  df['last_review'].fillna(method='ffill',inplace=True)\n"
     ]
    },
    {
     "data": {
      "text/plain": [
       "0       2018-10-19\n",
       "1       2019-05-21\n",
       "2       2019-05-21\n",
       "3       2019-07-05\n",
       "4       2018-11-19\n",
       "           ...    \n",
       "48895   2019-07-08\n",
       "48896   2019-07-08\n",
       "48897   2019-07-08\n",
       "48898   2019-07-08\n",
       "48899   2019-07-08\n",
       "Name: last_review, Length: 48900, dtype: datetime64[ns]"
      ]
     },
     "execution_count": 10,
     "metadata": {},
     "output_type": "execute_result"
    }
   ],
   "source": [
    "# Handled the missing values in 'last_review' column and converted the 'last_review' column to a datetime column\n",
    "df['last_review'].fillna(method='ffill',inplace=True)\n",
    "pd.to_datetime(df['last_review'])"
   ]
  },
  {
   "cell_type": "code",
   "execution_count": 11,
   "id": "251e42d7-7a44-4f31-8300-d88fdd59dd21",
   "metadata": {},
   "outputs": [
    {
     "data": {
      "text/html": [
       "<div>\n",
       "<style scoped>\n",
       "    .dataframe tbody tr th:only-of-type {\n",
       "        vertical-align: middle;\n",
       "    }\n",
       "\n",
       "    .dataframe tbody tr th {\n",
       "        vertical-align: top;\n",
       "    }\n",
       "\n",
       "    .dataframe thead th {\n",
       "        text-align: right;\n",
       "    }\n",
       "</style>\n",
       "<table border=\"1\" class=\"dataframe\">\n",
       "  <thead>\n",
       "    <tr style=\"text-align: right;\">\n",
       "      <th></th>\n",
       "      <th>id</th>\n",
       "      <th>host_id</th>\n",
       "      <th>latitude</th>\n",
       "      <th>longitude</th>\n",
       "      <th>price</th>\n",
       "      <th>minimum_nights</th>\n",
       "      <th>number_of_reviews</th>\n",
       "      <th>reviews_per_month</th>\n",
       "      <th>calculated_host_listings_count</th>\n",
       "      <th>availability_365</th>\n",
       "    </tr>\n",
       "  </thead>\n",
       "  <tbody>\n",
       "    <tr>\n",
       "      <th>count</th>\n",
       "      <td>4.890000e+04</td>\n",
       "      <td>4.890000e+04</td>\n",
       "      <td>48900.000000</td>\n",
       "      <td>48900.000000</td>\n",
       "      <td>48900.000000</td>\n",
       "      <td>48900.000000</td>\n",
       "      <td>48900.000000</td>\n",
       "      <td>38848.000000</td>\n",
       "      <td>48900.000000</td>\n",
       "      <td>48900.000000</td>\n",
       "    </tr>\n",
       "    <tr>\n",
       "      <th>mean</th>\n",
       "      <td>1.901520e+07</td>\n",
       "      <td>6.761310e+07</td>\n",
       "      <td>40.728949</td>\n",
       "      <td>-73.952172</td>\n",
       "      <td>152.720511</td>\n",
       "      <td>7.032168</td>\n",
       "      <td>23.279693</td>\n",
       "      <td>1.373126</td>\n",
       "      <td>7.143374</td>\n",
       "      <td>112.783742</td>\n",
       "    </tr>\n",
       "    <tr>\n",
       "      <th>std</th>\n",
       "      <td>1.098423e+07</td>\n",
       "      <td>7.860992e+07</td>\n",
       "      <td>0.054529</td>\n",
       "      <td>0.046155</td>\n",
       "      <td>240.142704</td>\n",
       "      <td>20.513684</td>\n",
       "      <td>44.555777</td>\n",
       "      <td>1.680367</td>\n",
       "      <td>32.950889</td>\n",
       "      <td>131.626347</td>\n",
       "    </tr>\n",
       "    <tr>\n",
       "      <th>min</th>\n",
       "      <td>2.539000e+03</td>\n",
       "      <td>2.438000e+03</td>\n",
       "      <td>40.499790</td>\n",
       "      <td>-74.244420</td>\n",
       "      <td>0.000000</td>\n",
       "      <td>1.000000</td>\n",
       "      <td>0.000000</td>\n",
       "      <td>0.010000</td>\n",
       "      <td>1.000000</td>\n",
       "      <td>0.000000</td>\n",
       "    </tr>\n",
       "    <tr>\n",
       "      <th>25%</th>\n",
       "      <td>9.470353e+06</td>\n",
       "      <td>7.812758e+06</td>\n",
       "      <td>40.690100</td>\n",
       "      <td>-73.983072</td>\n",
       "      <td>69.000000</td>\n",
       "      <td>1.000000</td>\n",
       "      <td>1.000000</td>\n",
       "      <td>0.190000</td>\n",
       "      <td>1.000000</td>\n",
       "      <td>0.000000</td>\n",
       "    </tr>\n",
       "    <tr>\n",
       "      <th>50%</th>\n",
       "      <td>1.967620e+07</td>\n",
       "      <td>3.079058e+07</td>\n",
       "      <td>40.723075</td>\n",
       "      <td>-73.955680</td>\n",
       "      <td>106.000000</td>\n",
       "      <td>3.000000</td>\n",
       "      <td>5.000000</td>\n",
       "      <td>0.720000</td>\n",
       "      <td>1.000000</td>\n",
       "      <td>45.000000</td>\n",
       "    </tr>\n",
       "    <tr>\n",
       "      <th>75%</th>\n",
       "      <td>2.915173e+07</td>\n",
       "      <td>1.074344e+08</td>\n",
       "      <td>40.763112</td>\n",
       "      <td>-73.936280</td>\n",
       "      <td>175.000000</td>\n",
       "      <td>5.000000</td>\n",
       "      <td>24.000000</td>\n",
       "      <td>2.020000</td>\n",
       "      <td>2.000000</td>\n",
       "      <td>227.000000</td>\n",
       "    </tr>\n",
       "    <tr>\n",
       "      <th>max</th>\n",
       "      <td>3.648724e+07</td>\n",
       "      <td>2.743213e+08</td>\n",
       "      <td>40.913060</td>\n",
       "      <td>-73.712990</td>\n",
       "      <td>10000.000000</td>\n",
       "      <td>1250.000000</td>\n",
       "      <td>629.000000</td>\n",
       "      <td>58.500000</td>\n",
       "      <td>327.000000</td>\n",
       "      <td>365.000000</td>\n",
       "    </tr>\n",
       "  </tbody>\n",
       "</table>\n",
       "</div>"
      ],
      "text/plain": [
       "                 id       host_id      latitude     longitude         price  \\\n",
       "count  4.890000e+04  4.890000e+04  48900.000000  48900.000000  48900.000000   \n",
       "mean   1.901520e+07  6.761310e+07     40.728949    -73.952172    152.720511   \n",
       "std    1.098423e+07  7.860992e+07      0.054529      0.046155    240.142704   \n",
       "min    2.539000e+03  2.438000e+03     40.499790    -74.244420      0.000000   \n",
       "25%    9.470353e+06  7.812758e+06     40.690100    -73.983072     69.000000   \n",
       "50%    1.967620e+07  3.079058e+07     40.723075    -73.955680    106.000000   \n",
       "75%    2.915173e+07  1.074344e+08     40.763112    -73.936280    175.000000   \n",
       "max    3.648724e+07  2.743213e+08     40.913060    -73.712990  10000.000000   \n",
       "\n",
       "       minimum_nights  number_of_reviews  reviews_per_month  \\\n",
       "count    48900.000000       48900.000000       38848.000000   \n",
       "mean         7.032168          23.279693           1.373126   \n",
       "std         20.513684          44.555777           1.680367   \n",
       "min          1.000000           0.000000           0.010000   \n",
       "25%          1.000000           1.000000           0.190000   \n",
       "50%          3.000000           5.000000           0.720000   \n",
       "75%          5.000000          24.000000           2.020000   \n",
       "max       1250.000000         629.000000          58.500000   \n",
       "\n",
       "       calculated_host_listings_count  availability_365  \n",
       "count                    48900.000000      48900.000000  \n",
       "mean                         7.143374        112.783742  \n",
       "std                         32.950889        131.626347  \n",
       "min                          1.000000          0.000000  \n",
       "25%                          1.000000          0.000000  \n",
       "50%                          1.000000         45.000000  \n",
       "75%                          2.000000        227.000000  \n",
       "max                        327.000000        365.000000  "
      ]
     },
     "execution_count": 11,
     "metadata": {},
     "output_type": "execute_result"
    }
   ],
   "source": [
    "# .describe() methods tells us about the distribution of the data. As the data that is in Normalized form\n",
    "# can be a good fit for machine learning models. The Normal distribution of the data depends upon the standard\n",
    "# deviations. Also, this gives us necessary information about the data i.e InterQuartile ranges (25 % , 50 % , 75 %)\n",
    "# If we look upto 'minimum_nights' , we can clearly see over here that 75 % of the data falls between 1-5 values while other 25%\n",
    "# contains rest of the values. So, the data is very skewed.\n",
    "df.describe()"
   ]
  },
  {
   "cell_type": "code",
   "execution_count": 12,
   "id": "6c214ae7-6273-4b53-89cf-d08abf333663",
   "metadata": {},
   "outputs": [
    {
     "data": {
      "text/html": [
       "<div>\n",
       "<style scoped>\n",
       "    .dataframe tbody tr th:only-of-type {\n",
       "        vertical-align: middle;\n",
       "    }\n",
       "\n",
       "    .dataframe tbody tr th {\n",
       "        vertical-align: top;\n",
       "    }\n",
       "\n",
       "    .dataframe thead th {\n",
       "        text-align: right;\n",
       "    }\n",
       "</style>\n",
       "<table border=\"1\" class=\"dataframe\">\n",
       "  <thead>\n",
       "    <tr style=\"text-align: right;\">\n",
       "      <th></th>\n",
       "      <th>name</th>\n",
       "      <th>host_name</th>\n",
       "      <th>neighbourhood_group</th>\n",
       "      <th>neighbourhood</th>\n",
       "      <th>room_type</th>\n",
       "      <th>last_review</th>\n",
       "    </tr>\n",
       "  </thead>\n",
       "  <tbody>\n",
       "    <tr>\n",
       "      <th>count</th>\n",
       "      <td>48884</td>\n",
       "      <td>48879</td>\n",
       "      <td>48900</td>\n",
       "      <td>48900</td>\n",
       "      <td>48900</td>\n",
       "      <td>48900</td>\n",
       "    </tr>\n",
       "    <tr>\n",
       "      <th>unique</th>\n",
       "      <td>47896</td>\n",
       "      <td>11452</td>\n",
       "      <td>6</td>\n",
       "      <td>221</td>\n",
       "      <td>3</td>\n",
       "      <td>1764</td>\n",
       "    </tr>\n",
       "    <tr>\n",
       "      <th>top</th>\n",
       "      <td>Hillside Hotel</td>\n",
       "      <td>Michael</td>\n",
       "      <td>Manhattan</td>\n",
       "      <td>Williamsburg</td>\n",
       "      <td>Entire home/apt</td>\n",
       "      <td>7/1/2019</td>\n",
       "    </tr>\n",
       "    <tr>\n",
       "      <th>freq</th>\n",
       "      <td>18</td>\n",
       "      <td>417</td>\n",
       "      <td>21664</td>\n",
       "      <td>3920</td>\n",
       "      <td>25413</td>\n",
       "      <td>1838</td>\n",
       "    </tr>\n",
       "  </tbody>\n",
       "</table>\n",
       "</div>"
      ],
      "text/plain": [
       "                  name host_name neighbourhood_group neighbourhood  \\\n",
       "count            48884     48879               48900         48900   \n",
       "unique           47896     11452                   6           221   \n",
       "top     Hillside Hotel   Michael           Manhattan  Williamsburg   \n",
       "freq                18       417               21664          3920   \n",
       "\n",
       "              room_type last_review  \n",
       "count             48900       48900  \n",
       "unique                3        1764  \n",
       "top     Entire home/apt    7/1/2019  \n",
       "freq              25413        1838  "
      ]
     },
     "execution_count": 12,
     "metadata": {},
     "output_type": "execute_result"
    }
   ],
   "source": [
    "#* .describe() by putting arg = 'object' gives us the information about categorical data as well while .describe() without \n",
    "# passing argument only gives us information about numeric data\n",
    "# Also,there is a high repitition among columns like neighbourhood_group & room_type\n",
    "df.describe(include=['object'])"
   ]
  },
  {
   "cell_type": "code",
   "execution_count": 13,
   "id": "f0799b71-f759-4524-bdeb-1513c248ba03",
   "metadata": {},
   "outputs": [
    {
     "data": {
      "text/plain": [
       "5"
      ]
     },
     "execution_count": 13,
     "metadata": {},
     "output_type": "execute_result"
    }
   ],
   "source": [
    "# identified total number of duplicates in dataframe\n",
    "df.duplicated().sum()"
   ]
  },
  {
   "cell_type": "code",
   "execution_count": 14,
   "id": "66ee876a-0419-4b33-ba7a-ee18407501ea",
   "metadata": {},
   "outputs": [],
   "source": [
    "# dropped those duplicates\n",
    "df.drop_duplicates(inplace=True)"
   ]
  },
  {
   "cell_type": "code",
   "execution_count": 15,
   "id": "0080cd73-c036-4b36-a294-f11db2034afd",
   "metadata": {},
   "outputs": [
    {
     "data": {
      "text/plain": [
       "(48895, 16)"
      ]
     },
     "execution_count": 15,
     "metadata": {},
     "output_type": "execute_result"
    }
   ],
   "source": [
    "# now we can see over here that 5 rows has been removed\n",
    "df.shape"
   ]
  },
  {
   "cell_type": "code",
   "execution_count": 16,
   "id": "3fb3d647-eb9d-4a23-ade1-3405a0c84423",
   "metadata": {},
   "outputs": [
    {
     "name": "stdout",
     "output_type": "stream",
     "text": [
      "id :- 0.0 %\n",
      "name :- 0.03272318232948154 %\n",
      "host_id :- 0.0 %\n",
      "host_name :- 0.04294917680744453 %\n",
      "neighbourhood_group :- 0.0 %\n",
      "neighbourhood :- 0.0 %\n",
      "latitude :- 0.0 %\n",
      "longitude :- 0.0 %\n",
      "room_type :- 0.0 %\n",
      "price :- 0.0 %\n",
      "minimum_nights :- 0.0 %\n",
      "number_of_reviews :- 0.0 %\n",
      "last_review :- 0.0 %\n",
      "reviews_per_month :- 20.55833929849678 %\n",
      "calculated_host_listings_count :- 0.0 %\n",
      "availability_365 :- 0.0 %\n"
     ]
    }
   ],
   "source": [
    "# Here we have computed the number of missing values percentage for each column. When we call .mean(), it computes\n",
    "# the average along axis=0 (which is column wise)\n",
    "# Since the values are True and False (boolean), they are treated as 1 and 0, respectively.\n",
    "# So, the mean gives the proportion of True values (i.e., the proportion of null values in each column).\n",
    "for col in df.columns:\n",
    "    missing_value_percent=df[col].isnull().mean()*100\n",
    "    print(df[col].name ,\":-\",missing_value_percent,\"%\")"
   ]
  },
  {
   "cell_type": "code",
   "execution_count": null,
   "id": "9fa5f3c5-361f-4843-bcc6-40ff6fec0741",
   "metadata": {},
   "outputs": [],
   "source": [
    "bar=msno.bar(df)\n",
    "bar # Column by Column it will tell how many percentage values are present. So for example DTS column has only 10% values present.\n",
    "msno.matrix(df)"
   ]
  },
  {
   "cell_type": "code",
   "execution_count": 17,
   "id": "f6273a11-d325-47ca-8d6b-0145b9029929",
   "metadata": {},
   "outputs": [],
   "source": [
    "# Dropped the NAN rows entirely of those attributes which were in very low number\n",
    "df.dropna(subset=['name'], inplace=True)\n"
   ]
  },
  {
   "cell_type": "code",
   "execution_count": 18,
   "id": "4a378efb-b1b0-4424-a8ca-b6029ed066cb",
   "metadata": {},
   "outputs": [],
   "source": [
    "df.dropna(subset=['host_name'], inplace=True)"
   ]
  },
  {
   "cell_type": "markdown",
   "id": "af76e0c6-589e-4723-a206-ac18a658c630",
   "metadata": {},
   "source": [
    "Because we've assumed that Nan means there would be no reveiws. That's why we are going to replace it with the mode."
   ]
  },
  {
   "cell_type": "code",
   "execution_count": 19,
   "id": "c854a199-3537-40f6-8f42-57afadf2e73c",
   "metadata": {},
   "outputs": [
    {
     "data": {
      "text/plain": [
       "count    38821.000000\n",
       "mean         1.373229\n",
       "std          1.680328\n",
       "min          0.010000\n",
       "25%          0.190000\n",
       "50%          0.720000\n",
       "75%          2.020000\n",
       "max         58.500000\n",
       "Name: reviews_per_month, dtype: float64"
      ]
     },
     "execution_count": 19,
     "metadata": {},
     "output_type": "execute_result"
    }
   ],
   "source": [
    "df['reviews_per_month'].describe()"
   ]
  },
  {
   "cell_type": "code",
   "execution_count": 20,
   "id": "e45e9d4f-2d05-44ff-a634-4cdb0695dbbb",
   "metadata": {},
   "outputs": [
    {
     "data": {
      "text/plain": [
       "10037"
      ]
     },
     "execution_count": 20,
     "metadata": {},
     "output_type": "execute_result"
    }
   ],
   "source": [
    "df['reviews_per_month'].isnull().sum()"
   ]
  },
  {
   "cell_type": "code",
   "execution_count": 21,
   "id": "41de5f1e-0b95-479c-aef7-686d22105da6",
   "metadata": {},
   "outputs": [
    {
     "data": {
      "text/plain": [
       "937"
      ]
     },
     "execution_count": 21,
     "metadata": {},
     "output_type": "execute_result"
    }
   ],
   "source": [
    "df['reviews_per_month'].nunique()"
   ]
  },
  {
   "cell_type": "code",
   "execution_count": 22,
   "id": "5632646c-ad94-40a6-b8e8-712093cd4c24",
   "metadata": {},
   "outputs": [
    {
     "data": {
      "text/plain": [
       "<Axes: >"
      ]
     },
     "execution_count": 22,
     "metadata": {},
     "output_type": "execute_result"
    },
    {
     "data": {
      "image/png": "[encoded data removed]",
      "text/plain": [
       "<Figure size 640x480 with 1 Axes>"
      ]
     },
     "metadata": {},
     "output_type": "display_data"
    }
   ],
   "source": [
    "df['reviews_per_month'].hist(bins=100)"
   ]
  },
  {
   "cell_type": "code",
   "execution_count": 23,
   "id": "bc0e959c-a01c-4108-9d98-ba50bd288452",
   "metadata": {},
   "outputs": [],
   "source": [
    "df['reviews_per_month']=df['reviews_per_month'].fillna(df['reviews_per_month'].mode()[0])"
   ]
  },
  {
   "cell_type": "code",
   "execution_count": 24,
   "id": "8d36f127-fc06-46a3-bb03-e02973c5ed74",
   "metadata": {},
   "outputs": [
    {
     "data": {
      "text/plain": [
       "0"
      ]
     },
     "execution_count": 24,
     "metadata": {},
     "output_type": "execute_result"
    }
   ],
   "source": [
    "df['reviews_per_month'].isnull().sum()"
   ]
  },
  {
   "cell_type": "code",
   "execution_count": 25,
   "id": "09095363-a7df-49a7-82eb-a1cc48ea2f8a",
   "metadata": {},
   "outputs": [
    {
     "data": {
      "text/html": [
       "<div>\n",
       "<style scoped>\n",
       "    .dataframe tbody tr th:only-of-type {\n",
       "        vertical-align: middle;\n",
       "    }\n",
       "\n",
       "    .dataframe tbody tr th {\n",
       "        vertical-align: top;\n",
       "    }\n",
       "\n",
       "    .dataframe thead th {\n",
       "        text-align: right;\n",
       "    }\n",
       "</style>\n",
       "<table border=\"1\" class=\"dataframe\">\n",
       "  <thead>\n",
       "    <tr style=\"text-align: right;\">\n",
       "      <th></th>\n",
       "      <th>host_id</th>\n",
       "      <th>host_name</th>\n",
       "      <th>neighbourhood_group</th>\n",
       "      <th>neighbourhood</th>\n",
       "      <th>latitude</th>\n",
       "      <th>longitude</th>\n",
       "      <th>room_type</th>\n",
       "      <th>price</th>\n",
       "      <th>minimum_nights</th>\n",
       "      <th>number_of_reviews</th>\n",
       "      <th>reviews_per_month</th>\n",
       "      <th>calculated_host_listings_count</th>\n",
       "      <th>availability_365</th>\n",
       "    </tr>\n",
       "  </thead>\n",
       "  <tbody>\n",
       "    <tr>\n",
       "      <th>0</th>\n",
       "      <td>2787</td>\n",
       "      <td>John</td>\n",
       "      <td>Brooklyn</td>\n",
       "      <td>Kensington</td>\n",
       "      <td>40.64749</td>\n",
       "      <td>-73.97237</td>\n",
       "      <td>Private room</td>\n",
       "      <td>149</td>\n",
       "      <td>1</td>\n",
       "      <td>9</td>\n",
       "      <td>0.21</td>\n",
       "      <td>6</td>\n",
       "      <td>365</td>\n",
       "    </tr>\n",
       "    <tr>\n",
       "      <th>1</th>\n",
       "      <td>2845</td>\n",
       "      <td>Jennifer</td>\n",
       "      <td>Manhattan</td>\n",
       "      <td>Midtown</td>\n",
       "      <td>40.75362</td>\n",
       "      <td>-73.98377</td>\n",
       "      <td>Entire home/apt</td>\n",
       "      <td>225</td>\n",
       "      <td>1</td>\n",
       "      <td>45</td>\n",
       "      <td>0.38</td>\n",
       "      <td>2</td>\n",
       "      <td>355</td>\n",
       "    </tr>\n",
       "    <tr>\n",
       "      <th>2</th>\n",
       "      <td>4632</td>\n",
       "      <td>Elisabeth</td>\n",
       "      <td>Manhattan</td>\n",
       "      <td>Harlem</td>\n",
       "      <td>40.80902</td>\n",
       "      <td>-73.94190</td>\n",
       "      <td>Private room</td>\n",
       "      <td>150</td>\n",
       "      <td>3</td>\n",
       "      <td>0</td>\n",
       "      <td>0.02</td>\n",
       "      <td>1</td>\n",
       "      <td>365</td>\n",
       "    </tr>\n",
       "    <tr>\n",
       "      <th>3</th>\n",
       "      <td>4869</td>\n",
       "      <td>LisaRoxanne</td>\n",
       "      <td>Brooklyn</td>\n",
       "      <td>Clinton Hill</td>\n",
       "      <td>40.68514</td>\n",
       "      <td>-73.95976</td>\n",
       "      <td>Entire home/apt</td>\n",
       "      <td>89</td>\n",
       "      <td>1</td>\n",
       "      <td>270</td>\n",
       "      <td>4.64</td>\n",
       "      <td>1</td>\n",
       "      <td>194</td>\n",
       "    </tr>\n",
       "    <tr>\n",
       "      <th>4</th>\n",
       "      <td>7192</td>\n",
       "      <td>Laura</td>\n",
       "      <td>Manhattan</td>\n",
       "      <td>East Harlem</td>\n",
       "      <td>40.79851</td>\n",
       "      <td>-73.94399</td>\n",
       "      <td>Entire home/apt</td>\n",
       "      <td>80</td>\n",
       "      <td>10</td>\n",
       "      <td>9</td>\n",
       "      <td>0.10</td>\n",
       "      <td>1</td>\n",
       "      <td>0</td>\n",
       "    </tr>\n",
       "    <tr>\n",
       "      <th>...</th>\n",
       "      <td>...</td>\n",
       "      <td>...</td>\n",
       "      <td>...</td>\n",
       "      <td>...</td>\n",
       "      <td>...</td>\n",
       "      <td>...</td>\n",
       "      <td>...</td>\n",
       "      <td>...</td>\n",
       "      <td>...</td>\n",
       "      <td>...</td>\n",
       "      <td>...</td>\n",
       "      <td>...</td>\n",
       "      <td>...</td>\n",
       "    </tr>\n",
       "    <tr>\n",
       "      <th>48895</th>\n",
       "      <td>8232441</td>\n",
       "      <td>Sabrina</td>\n",
       "      <td>Brooklyn</td>\n",
       "      <td>Bedford-Stuyvesant</td>\n",
       "      <td>40.67853</td>\n",
       "      <td>-73.94995</td>\n",
       "      <td>Private room</td>\n",
       "      <td>70</td>\n",
       "      <td>2</td>\n",
       "      <td>0</td>\n",
       "      <td>0.02</td>\n",
       "      <td>2</td>\n",
       "      <td>9</td>\n",
       "    </tr>\n",
       "    <tr>\n",
       "      <th>48896</th>\n",
       "      <td>6570630</td>\n",
       "      <td>Marisol</td>\n",
       "      <td>Brooklyn</td>\n",
       "      <td>Bushwick</td>\n",
       "      <td>40.70184</td>\n",
       "      <td>-73.93317</td>\n",
       "      <td>Private room</td>\n",
       "      <td>40</td>\n",
       "      <td>4</td>\n",
       "      <td>0</td>\n",
       "      <td>0.02</td>\n",
       "      <td>2</td>\n",
       "      <td>36</td>\n",
       "    </tr>\n",
       "    <tr>\n",
       "      <th>48897</th>\n",
       "      <td>23492952</td>\n",
       "      <td>Ilgar &amp; Aysel</td>\n",
       "      <td>Manhattan</td>\n",
       "      <td>Harlem</td>\n",
       "      <td>40.81475</td>\n",
       "      <td>-73.94867</td>\n",
       "      <td>Entire home/apt</td>\n",
       "      <td>115</td>\n",
       "      <td>10</td>\n",
       "      <td>0</td>\n",
       "      <td>0.02</td>\n",
       "      <td>1</td>\n",
       "      <td>27</td>\n",
       "    </tr>\n",
       "    <tr>\n",
       "      <th>48898</th>\n",
       "      <td>30985759</td>\n",
       "      <td>Taz</td>\n",
       "      <td>Manhattan</td>\n",
       "      <td>Hell's Kitchen</td>\n",
       "      <td>40.75751</td>\n",
       "      <td>-73.99112</td>\n",
       "      <td>Shared room</td>\n",
       "      <td>55</td>\n",
       "      <td>1</td>\n",
       "      <td>0</td>\n",
       "      <td>0.02</td>\n",
       "      <td>6</td>\n",
       "      <td>2</td>\n",
       "    </tr>\n",
       "    <tr>\n",
       "      <th>48899</th>\n",
       "      <td>68119814</td>\n",
       "      <td>Christophe</td>\n",
       "      <td>Manhattan</td>\n",
       "      <td>Hell's Kitchen</td>\n",
       "      <td>40.76404</td>\n",
       "      <td>-73.98933</td>\n",
       "      <td>Private room</td>\n",
       "      <td>90</td>\n",
       "      <td>7</td>\n",
       "      <td>0</td>\n",
       "      <td>0.02</td>\n",
       "      <td>1</td>\n",
       "      <td>23</td>\n",
       "    </tr>\n",
       "  </tbody>\n",
       "</table>\n",
       "<p>48858 rows × 13 columns</p>\n",
       "</div>"
      ],
      "text/plain": [
       "        host_id      host_name neighbourhood_group       neighbourhood  \\\n",
       "0          2787           John            Brooklyn          Kensington   \n",
       "1          2845       Jennifer           Manhattan             Midtown   \n",
       "2          4632      Elisabeth           Manhattan              Harlem   \n",
       "3          4869    LisaRoxanne            Brooklyn        Clinton Hill   \n",
       "4          7192          Laura           Manhattan         East Harlem   \n",
       "...         ...            ...                 ...                 ...   \n",
       "48895   8232441        Sabrina            Brooklyn  Bedford-Stuyvesant   \n",
       "48896   6570630        Marisol            Brooklyn            Bushwick   \n",
       "48897  23492952  Ilgar & Aysel           Manhattan              Harlem   \n",
       "48898  30985759            Taz           Manhattan      Hell's Kitchen   \n",
       "48899  68119814     Christophe           Manhattan      Hell's Kitchen   \n",
       "\n",
       "       latitude  longitude        room_type  price  minimum_nights  \\\n",
       "0      40.64749  -73.97237     Private room    149               1   \n",
       "1      40.75362  -73.98377  Entire home/apt    225               1   \n",
       "2      40.80902  -73.94190     Private room    150               3   \n",
       "3      40.68514  -73.95976  Entire home/apt     89               1   \n",
       "4      40.79851  -73.94399  Entire home/apt     80              10   \n",
       "...         ...        ...              ...    ...             ...   \n",
       "48895  40.67853  -73.94995     Private room     70               2   \n",
       "48896  40.70184  -73.93317     Private room     40               4   \n",
       "48897  40.81475  -73.94867  Entire home/apt    115              10   \n",
       "48898  40.75751  -73.99112      Shared room     55               1   \n",
       "48899  40.76404  -73.98933     Private room     90               7   \n",
       "\n",
       "       number_of_reviews  reviews_per_month  calculated_host_listings_count  \\\n",
       "0                      9               0.21                               6   \n",
       "1                     45               0.38                               2   \n",
       "2                      0               0.02                               1   \n",
       "3                    270               4.64                               1   \n",
       "4                      9               0.10                               1   \n",
       "...                  ...                ...                             ...   \n",
       "48895                  0               0.02                               2   \n",
       "48896                  0               0.02                               2   \n",
       "48897                  0               0.02                               1   \n",
       "48898                  0               0.02                               6   \n",
       "48899                  0               0.02                               1   \n",
       "\n",
       "       availability_365  \n",
       "0                   365  \n",
       "1                   355  \n",
       "2                   365  \n",
       "3                   194  \n",
       "4                     0  \n",
       "...                 ...  \n",
       "48895                 9  \n",
       "48896                36  \n",
       "48897                27  \n",
       "48898                 2  \n",
       "48899                23  \n",
       "\n",
       "[48858 rows x 13 columns]"
      ]
     },
     "execution_count": 25,
     "metadata": {},
     "output_type": "execute_result"
    }
   ],
   "source": [
    "# Dropped columns 'last_review','name','id'\n",
    "df.drop(['last_review','name','id'],axis=1)"
   ]
  },
  {
   "cell_type": "code",
   "execution_count": 26,
   "id": "50a965cc-0760-402b-ba64-3916004eaf61",
   "metadata": {},
   "outputs": [
    {
     "name": "stdout",
     "output_type": "stream",
     "text": [
      "3\n",
      "6\n",
      "221\n"
     ]
    }
   ],
   "source": [
    "# Neighbourhood column contains data that a significant number of unique values though it is a categorical column\n",
    "print(df['room_type'].nunique())\n",
    "print(df['neighbourhood_group'].nunique())\n",
    "print(df['neighbourhood'].nunique())"
   ]
  },
  {
   "cell_type": "code",
   "execution_count": 29,
   "id": "8d2a764e-5320-49ac-8bd5-48f87db8bf99",
   "metadata": {},
   "outputs": [
    {
     "data": {
      "text/plain": [
       "host_id\n",
       "219517861    10885561678\n",
       "107434423     7210036953\n",
       "137358866     3121544245\n",
       "12243051      2517132868\n",
       "200380610     1821814003\n",
       "61391963      1621038073\n",
       "30283594      1611854192\n",
       "16098958      1581720858\n",
       "205031545     1415225676\n",
       "22541573      1380302583\n",
       "Name: id, dtype: int64"
      ]
     },
     "execution_count": 29,
     "metadata": {},
     "output_type": "execute_result"
    }
   ],
   "source": [
    "# Top 10 host IDs using host_id based on number of reviews\n",
    "topHostIDs = df.groupby('host_id')['id'].sum().sort_values(ascending=False).head(10)\n",
    "topHostIDs"
   ]
  },
  {
   "cell_type": "code",
   "execution_count": 30,
   "id": "993010ca-9320-43a4-9bfe-62ca3dbf20a4",
   "metadata": {},
   "outputs": [
    {
     "data": {
      "image/png": "[encoded data removed]",
      "text/plain": [
       "<Figure size 1000x600 with 1 Axes>"
      ]
     },
     "metadata": {},
     "output_type": "display_data"
    }
   ],
   "source": [
    "\n",
    "plt.figure(figsize=(10, 6))\n",
    "topHostIDs.plot(kind='bar', color='blue')\n",
    "plt.title('Top 10 Host Names by Number of Bookings (Reviews)')\n",
    "plt.xlabel('Host Name')\n",
    "plt.ylabel('Number of Bookings (Reviews)')\n",
    "plt.xticks(rotation=45, ha='right')\n",
    "plt.tight_layout()"
   ]
  },
  {
   "cell_type": "code",
   "execution_count": 38,
   "id": "aca3b328-f206-4c7d-adc1-42a89df0a024",
   "metadata": {},
   "outputs": [],
   "source": [
    "top_hosts=df[df['host_id'].isin(topHostIDs.index)]"
   ]
  },
  {
   "cell_type": "code",
   "execution_count": 60,
   "id": "049f240c-3305-4ce3-9571-c51a718e60b9",
   "metadata": {},
   "outputs": [
    {
     "data": {
      "text/html": [
       "<div>\n",
       "<style scoped>\n",
       "    .dataframe tbody tr th:only-of-type {\n",
       "        vertical-align: middle;\n",
       "    }\n",
       "\n",
       "    .dataframe tbody tr th {\n",
       "        vertical-align: top;\n",
       "    }\n",
       "\n",
       "    .dataframe thead th {\n",
       "        text-align: right;\n",
       "    }\n",
       "</style>\n",
       "<table border=\"1\" class=\"dataframe\">\n",
       "  <thead>\n",
       "    <tr style=\"text-align: right;\">\n",
       "      <th></th>\n",
       "      <th>min</th>\n",
       "      <th>max</th>\n",
       "    </tr>\n",
       "    <tr>\n",
       "      <th>room_type</th>\n",
       "      <th></th>\n",
       "      <th></th>\n",
       "    </tr>\n",
       "  </thead>\n",
       "  <tbody>\n",
       "    <tr>\n",
       "      <th>Entire home/apt</th>\n",
       "      <td>70</td>\n",
       "      <td>1170</td>\n",
       "    </tr>\n",
       "    <tr>\n",
       "      <th>Private room</th>\n",
       "      <td>24</td>\n",
       "      <td>616</td>\n",
       "    </tr>\n",
       "  </tbody>\n",
       "</table>\n",
       "</div>"
      ],
      "text/plain": [
       "                 min   max\n",
       "room_type                 \n",
       "Entire home/apt   70  1170\n",
       "Private room      24   616"
      ]
     },
     "execution_count": 60,
     "metadata": {},
     "output_type": "execute_result"
    }
   ],
   "source": [
    "#types of rooms the host with the highest number of bookings offer, and the price range for these rooms\n",
    "top_hosts.groupby('room_type')['price'].agg(['min', 'max'])"
   ]
  },
  {
   "cell_type": "code",
   "execution_count": 61,
   "id": "df069ce8-4229-4b98-8046-1c33ac67b137",
   "metadata": {},
   "outputs": [],
   "source": [
    "#Identification of the neighbourhood group with the highest number of bookings\n",
    "neighbourhood_group_bookings = df.groupby('neighbourhood_group')['id'].sum().sort_values(ascending=False)"
   ]
  },
  {
   "cell_type": "code",
   "execution_count": 62,
   "id": "f10d3425-5332-42f9-968b-e8f5ae47d612",
   "metadata": {},
   "outputs": [
    {
     "data": {
      "text/plain": [
       "neighbourhood_group\n",
       "Manhattan        406464715814\n",
       "Brooklyn         366894903212\n",
       "Queens           123252160532\n",
       "Bronx             24775159194\n",
       "Staten Island      8055857451\n",
       "Broklyn                 34900\n",
       "Name: id, dtype: int64"
      ]
     },
     "execution_count": 62,
     "metadata": {},
     "output_type": "execute_result"
    }
   ],
   "source": [
    "neighbourhood_group_bookings"
   ]
  },
  {
   "cell_type": "code",
   "execution_count": 63,
   "id": "c902457b-4e79-4a8a-ade2-6338a6fe02f5",
   "metadata": {},
   "outputs": [
    {
     "data": {
      "image/png": "[encoded data removed]",
      "text/plain": [
       "<Figure size 640x480 with 1 Axes>"
      ]
     },
     "metadata": {},
     "output_type": "display_data"
    }
   ],
   "source": [
    "#Visualization of the neighbourhood group with the highest number of bookings\n",
    "plt.pie(neighbourhood_group_bookings[:4], labels=neighbourhood_group_bookings.index[:4], autopct='%1.1f%%', startangle=140, colors=plt.cm.Paired.colors)\n",
    "plt.title(\"Top Four Neighbourhoods with highest number of bookings\")\n",
    "plt.show()"
   ]
  },
  {
   "cell_type": "code",
   "execution_count": 88,
   "id": "bbf1f8a2-2d26-4493-83e4-c16feb346fc5",
   "metadata": {},
   "outputs": [
    {
     "data": {
      "image/png": "[encoded data removed]",
      "text/plain": [
       "<Figure size 1500x500 with 1 Axes>"
      ]
     },
     "metadata": {},
     "output_type": "display_data"
    }
   ],
   "source": [
    "# averge price of listings\n",
    "mean_listings=df.groupby('price')['calculated_host_listings_count'].mean()\n",
    "plt.figure(figsize=(15,5))\n",
    "plt.hist(mean_listings.values, color='green', bins=100)\n",
    "plt.show()"
   ]
  },
  {
   "cell_type": "code",
   "execution_count": 94,
   "id": "9ce7ce01-d8fb-49b0-b0f3-1ecd0ff680cc",
   "metadata": {},
   "outputs": [
    {
     "name": "stdout",
     "output_type": "stream",
     "text": [
      "price\n",
      "0         1\n",
      "10        1\n",
      "11        1\n",
      "12        1\n",
      "13        3\n",
      "         ..\n",
      "7703     12\n",
      "8000     11\n",
      "8500      1\n",
      "9999      1\n",
      "10000     1\n",
      "Name: calculated_host_listings_count, Length: 674, dtype: int64\n",
      "price\n",
      "0         6\n",
      "10        4\n",
      "11        1\n",
      "12        1\n",
      "13        3\n",
      "         ..\n",
      "7703     12\n",
      "8000     11\n",
      "8500      1\n",
      "9999      1\n",
      "10000     1\n",
      "Name: calculated_host_listings_count, Length: 674, dtype: int64\n"
     ]
    }
   ],
   "source": [
    "#minimum and maximum prices of the listings\n",
    "min_listing=df.groupby('price')['calculated_host_listings_count'].min()\n",
    "max_listing=df.groupby('price')['calculated_host_listings_count'].max()\n",
    "print(min_listing)\n",
    "print(max_listing)"
   ]
  },
  {
   "cell_type": "code",
   "execution_count": 99,
   "id": "c90547dc-a799-4f2e-bbe1-602e69417011",
   "metadata": {},
   "outputs": [
    {
     "name": "stdout",
     "output_type": "stream",
     "text": [
      "room_type\n",
      "Entire home/apt    211.806994\n",
      "Private room        89.794360\n",
      "Shared room         70.075928\n",
      "Name: price, dtype: float64\n"
     ]
    }
   ],
   "source": [
    "# average prices of different room types\n",
    "average_prices_by_room_type = df.groupby('room_type')['price'].mean()\n",
    "print(average_prices_by_room_type)"
   ]
  },
  {
   "cell_type": "code",
   "execution_count": 103,
   "id": "13d6bebd-0b26-45ae-b7f5-054990e5671c",
   "metadata": {},
   "outputs": [
    {
     "data": {
      "image/png": "[encoded data removed]",
      "text/plain": [
       "<Figure size 1000x600 with 1 Axes>"
      ]
     },
     "metadata": {},
     "output_type": "display_data"
    }
   ],
   "source": [
    "# visualization of average prices of different room types\n",
    "plt.figure(figsize=(10, 6))\n",
    "average_prices_by_room_type.plot(kind='bar', color='yellow')\n",
    "plt.show()"
   ]
  },
  {
   "cell_type": "code",
   "execution_count": 105,
   "id": "72439dc6-e375-46d6-aae2-1f295eab9594",
   "metadata": {},
   "outputs": [],
   "source": [
    "neighbourhood_group_reviews = df.groupby('neighbourhood_group')['number_of_reviews'].sum()"
   ]
  },
  {
   "cell_type": "code",
   "execution_count": 106,
   "id": "3369acfd-d629-43f2-bc8d-ff1319e71783",
   "metadata": {},
   "outputs": [
    {
     "data": {
      "text/plain": [
       "486002"
      ]
     },
     "execution_count": 106,
     "metadata": {},
     "output_type": "execute_result"
    }
   ],
   "source": [
    "neighbourhood_group_reviews.max()"
   ]
  },
  {
   "cell_type": "code",
   "execution_count": 117,
   "id": "c8078ba7-71cf-4dee-8d5f-59870a4668be",
   "metadata": {},
   "outputs": [
    {
     "data": {
      "image/png": "[encoded data removed]",
      "text/plain": [
       "<Figure size 1000x600 with 1 Axes>"
      ]
     },
     "metadata": {},
     "output_type": "display_data"
    }
   ],
   "source": [
    "plt.figure(figsize=(10, 6))\n",
    "neighbourhood_group_reviews.plot(kind='bar', color='lightgreen')\n",
    "\n",
    "# Add labels and title\n",
    "plt.title('Number of Reviews by Neighbourhood Group', fontsize=16)\n",
    "plt.xlabel('Neighbourhood Group', fontsize=12)\n",
    "plt.ylabel('Number of Reviews', fontsize=12)\n",
    "plt.show()"
   ]
  },
  {
   "cell_type": "markdown",
   "id": "533bfb62-5000-4099-b628-1b4242e392c5",
   "metadata": {},
   "source": [
    "Brooklyn has the highest number of reviews at 486,002, followed closely by Manhattan with 454,126 reviews. These two neighborhoods has majority of the reviews, which indicates that they are the most popular areas for listings and attracts a big chunk of guests"
   ]
  },
  {
   "cell_type": "code",
   "execution_count": null,
   "id": "62bd15cb-f117-4527-b92b-69c2ab2f2eab",
   "metadata": {},
   "outputs": [],
   "source": []
  }
 ],
 "metadata": {
  "kernelspec": {
   "display_name": "Python 3 (ipykernel)",
   "language": "python",
   "name": "python3"
  },
  "language_info": {
   "codemirror_mode": {
    "name": "ipython",
    "version": 3
   },
   "file_extension": ".py",
   "mimetype": "text/x-python",
   "name": "python",
   "nbconvert_exporter": "python",
   "pygments_lexer": "ipython3",
   "version": "3.11.5"
  }
 },
 "nbformat": 4,
 "nbformat_minor": 5
}
